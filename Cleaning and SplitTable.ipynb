{
 "cells": [
  {
   "cell_type": "code",
   "execution_count": 1,
   "metadata": {},
   "outputs": [],
   "source": [
    "import pandas as pd"
   ]
  },
  {
   "cell_type": "code",
   "execution_count": 10,
   "metadata": {},
   "outputs": [
    {
     "name": "stderr",
     "output_type": "stream",
     "text": [
      "D:\\anaconda3\\lib\\site-packages\\IPython\\core\\interactiveshell.py:3146: DtypeWarning: Columns (3,4,6,7,9,10,11,12,13,17) have mixed types.Specify dtype option on import or set low_memory=False.\n",
      "  has_raised = await self.run_ast_nodes(code_ast.body, cell_name,\n"
     ]
    }
   ],
   "source": [
    "Accident2019 = pd.read_csv('accident2019.csv',parse_dates = {'วันเวลาที่เกิดเหตุ' : ['วันที่เกิดเหตุ','เวลา']})\n",
    "Accident2020 = pd.read_csv('accident2020.csv',parse_dates = {'วันเวลาที่เกิดเหตุ' : ['วันที่เกิดเหตุ','เวลา']})\n",
    "Accident2021 = pd.read_csv('accident2021.csv',parse_dates = {'วันเวลาที่เกิดเหตุ' : ['วันที่เกิดเหตุ','เวลา']})\n",
    "Accident2022 = pd.read_csv('accident2022.csv',parse_dates = {'วันเวลาที่เกิดเหตุ' : ['วันที่เกิดเหตุ','เวลา']})\n",
    "#set วันเวลาของข้อมูลเป็น 'วันเวลาที่เกิดเหตุ' โดยรวม column 'วันที่เกิดเหตุ','เวลา'"
   ]
  },
  {
   "cell_type": "code",
   "execution_count": 11,
   "metadata": {},
   "outputs": [
    {
     "name": "stdout",
     "output_type": "stream",
     "text": [
      "<class 'pandas.core.frame.DataFrame'>\n",
      "RangeIndex: 40246 entries, 0 to 40245\n",
      "Data columns (total 19 columns):\n",
      " #   Column                            Non-Null Count  Dtype  \n",
      "---  ------                            --------------  -----  \n",
      " 0   วันเวลาที่เกิดเหตุ                40246 non-null  object \n",
      " 1   ปีที่เกิดเหตุ                     19194 non-null  float64\n",
      " 2   วันที่รายงาน                      19194 non-null  object \n",
      " 3   เวลาที่รายงาน                     19194 non-null  object \n",
      " 4   ACC_CODE                          19194 non-null  float64\n",
      " 5   หน่วยงาน                          19194 non-null  object \n",
      " 6   สายทาง                            19152 non-null  object \n",
      " 7   ก.ม.                              19104 non-null  float64\n",
      " 8   จังหวัด                           19183 non-null  object \n",
      " 9   รถคันที่ 1                        19152 non-null  object \n",
      " 10  บริเวณที่เกิดเหตุ/ลักษณะทาง       17659 non-null  object \n",
      " 11  มูลเหตุสันนิษฐาน                  19137 non-null  object \n",
      " 12  ลักษณะการเกิดอุบัติเหตุ           19144 non-null  object \n",
      " 13  จำนวนรถที่เกิดเหตุ (รวมคันที่ 1)  19194 non-null  float64\n",
      " 14  จำนวนผู้เสียชีวิต                 19194 non-null  float64\n",
      " 15  รวมจำนวนผู้บาดเจ็บ                19194 non-null  float64\n",
      " 16  สภาพอากาศ                         19194 non-null  object \n",
      " 17  LATITUDE                          19188 non-null  float64\n",
      " 18  LONGITUDE                         19188 non-null  float64\n",
      "dtypes: float64(8), object(11)\n",
      "memory usage: 5.8+ MB\n"
     ]
    }
   ],
   "source": [
    "Accident2019.info()"
   ]
  },
  {
   "cell_type": "code",
   "execution_count": 12,
   "metadata": {},
   "outputs": [],
   "source": [
    "Accident2019TO2022 = pd.concat([Accident2019,Accident2020,Accident2021,Accident2022],ignore_index = True)\n",
    "#รวมชุดข้อมูลของทั้ง 4 ปี เป็นชุดเดียวกัน ignore_index คือการ reset index ใหม่"
   ]
  },
  {
   "cell_type": "code",
   "execution_count": 13,
   "metadata": {},
   "outputs": [],
   "source": [
    "Accident2019TO2022.drop(['ปีที่เกิดเหตุ','วันที่รายงาน','เวลาที่รายงาน','ACC_CODE','รหัสสายทาง','จำนวนที่เกิดเหตุทั้งหมด (รวมคนเดินเท้า)','รถจักรยานยนต์','รถสามล้อเครื่อง'\n",
    "                         ,'รถยนต์นั่งส่วนบุคคล/รถยนต์นั่งสาธารณะ','รถตู้','รถปิคอัพโดยสาร','รถโดยสารมากกว่า 4 ล้อ','รถปิคอัพบรรทุก 4 ล้อ','รถบรรทุก 6 ล้อ','รถบรรทุกมากกว่า 6 ล้อ ไม่เกิน 10 ล้อ'\n",
    "                         ,'รถบรรทุกมากกว่า 10 ล้อ (รถพ่วง)','รถอีแต๋น','อื่นๆ','คนเดินเท้า','จำนวนผู้บาดเจ็บสาหัส','จำนวนผู้บาดเจ็บเล็กน้อย'],axis = 1 ,inplace = True)\n",
    "#ลบ column ที่ไม่ได้ใช้งาน"
   ]
  },
  {
   "cell_type": "code",
   "execution_count": 14,
   "metadata": {},
   "outputs": [
    {
     "data": {
      "text/html": [
       "<div>\n",
       "<style scoped>\n",
       "    .dataframe tbody tr th:only-of-type {\n",
       "        vertical-align: middle;\n",
       "    }\n",
       "\n",
       "    .dataframe tbody tr th {\n",
       "        vertical-align: top;\n",
       "    }\n",
       "\n",
       "    .dataframe thead th {\n",
       "        text-align: right;\n",
       "    }\n",
       "</style>\n",
       "<table border=\"1\" class=\"dataframe\">\n",
       "  <thead>\n",
       "    <tr style=\"text-align: right;\">\n",
       "      <th></th>\n",
       "      <th>วันเวลาที่เกิดเหตุ</th>\n",
       "      <th>หน่วยงาน</th>\n",
       "      <th>สายทาง</th>\n",
       "      <th>ก.ม.</th>\n",
       "      <th>จังหวัด</th>\n",
       "      <th>รถคันที่ 1</th>\n",
       "      <th>บริเวณที่เกิดเหตุ/ลักษณะทาง</th>\n",
       "      <th>มูลเหตุสันนิษฐาน</th>\n",
       "      <th>ลักษณะการเกิดอุบัติเหตุ</th>\n",
       "      <th>จำนวนรถที่เกิดเหตุ (รวมคันที่ 1)</th>\n",
       "      <th>จำนวนผู้เสียชีวิต</th>\n",
       "      <th>รวมจำนวนผู้บาดเจ็บ</th>\n",
       "      <th>สภาพอากาศ</th>\n",
       "      <th>LATITUDE</th>\n",
       "      <th>LONGITUDE</th>\n",
       "    </tr>\n",
       "  </thead>\n",
       "  <tbody>\n",
       "    <tr>\n",
       "      <th>19200</th>\n",
       "      <td>nan nan</td>\n",
       "      <td>NaN</td>\n",
       "      <td>NaN</td>\n",
       "      <td>NaN</td>\n",
       "      <td>NaN</td>\n",
       "      <td>NaN</td>\n",
       "      <td>NaN</td>\n",
       "      <td>NaN</td>\n",
       "      <td>NaN</td>\n",
       "      <td>NaN</td>\n",
       "      <td>NaN</td>\n",
       "      <td>NaN</td>\n",
       "      <td>NaN</td>\n",
       "      <td>NaN</td>\n",
       "      <td>NaN</td>\n",
       "    </tr>\n",
       "  </tbody>\n",
       "</table>\n",
       "</div>"
      ],
      "text/plain": [
       "      วันเวลาที่เกิดเหตุ หน่วยงาน สายทาง  ก.ม. จังหวัด รถคันที่ 1  \\\n",
       "19200            nan nan      NaN    NaN   NaN     NaN        NaN   \n",
       "\n",
       "      บริเวณที่เกิดเหตุ/ลักษณะทาง มูลเหตุสันนิษฐาน ลักษณะการเกิดอุบัติเหตุ  \\\n",
       "19200                         NaN              NaN                     NaN   \n",
       "\n",
       "       จำนวนรถที่เกิดเหตุ (รวมคันที่ 1)  จำนวนผู้เสียชีวิต  \\\n",
       "19200                               NaN                NaN   \n",
       "\n",
       "       รวมจำนวนผู้บาดเจ็บ สภาพอากาศ  LATITUDE  LONGITUDE  \n",
       "19200                 NaN       NaN       NaN        NaN  "
      ]
     },
     "execution_count": 14,
     "metadata": {},
     "output_type": "execute_result"
    }
   ],
   "source": [
    "Accident2019TO2022.loc[[19200]]"
   ]
  },
  {
   "cell_type": "code",
   "execution_count": 17,
   "metadata": {},
   "outputs": [],
   "source": [
    "Accident2019TO2022.dropna(inplace = True)\n",
    "Accident2019TO2022.reset_index(inplace = True)\n",
    "#ลบ row ที่ไม่มีข้อมูลในฟิวด์ และ reset index ใหม่"
   ]
  },
  {
   "cell_type": "code",
   "execution_count": 18,
   "metadata": {},
   "outputs": [
    {
     "data": {
      "text/html": [
       "<div>\n",
       "<style scoped>\n",
       "    .dataframe tbody tr th:only-of-type {\n",
       "        vertical-align: middle;\n",
       "    }\n",
       "\n",
       "    .dataframe tbody tr th {\n",
       "        vertical-align: top;\n",
       "    }\n",
       "\n",
       "    .dataframe thead th {\n",
       "        text-align: right;\n",
       "    }\n",
       "</style>\n",
       "<table border=\"1\" class=\"dataframe\">\n",
       "  <thead>\n",
       "    <tr style=\"text-align: right;\">\n",
       "      <th></th>\n",
       "      <th>index</th>\n",
       "      <th>วันเวลาที่เกิดเหตุ</th>\n",
       "      <th>หน่วยงาน</th>\n",
       "      <th>สายทาง</th>\n",
       "      <th>ก.ม.</th>\n",
       "      <th>จังหวัด</th>\n",
       "      <th>รถคันที่ 1</th>\n",
       "      <th>บริเวณที่เกิดเหตุ/ลักษณะทาง</th>\n",
       "      <th>มูลเหตุสันนิษฐาน</th>\n",
       "      <th>ลักษณะการเกิดอุบัติเหตุ</th>\n",
       "      <th>จำนวนรถที่เกิดเหตุ (รวมคันที่ 1)</th>\n",
       "      <th>จำนวนผู้เสียชีวิต</th>\n",
       "      <th>รวมจำนวนผู้บาดเจ็บ</th>\n",
       "      <th>สภาพอากาศ</th>\n",
       "      <th>LATITUDE</th>\n",
       "      <th>LONGITUDE</th>\n",
       "    </tr>\n",
       "  </thead>\n",
       "  <tbody>\n",
       "    <tr>\n",
       "      <th>19200</th>\n",
       "      <td>42092</td>\n",
       "      <td>2020-01-29 07:40:00</td>\n",
       "      <td>กรมทางหลวง</td>\n",
       "      <td>มวกเหล็ก - บ่อทอง</td>\n",
       "      <td>42.6</td>\n",
       "      <td>นครราชสีมา</td>\n",
       "      <td>รถจักรยานยนต์</td>\n",
       "      <td>ทางตรง+ไม่มีความลาดชัน</td>\n",
       "      <td>ขับรถเร็วเกินอัตรากำหนด</td>\n",
       "      <td>ชนท้าย</td>\n",
       "      <td>2.0</td>\n",
       "      <td>1.0</td>\n",
       "      <td>0.0</td>\n",
       "      <td>แจ่มใส</td>\n",
       "      <td>14.6395</td>\n",
       "      <td>101.26844</td>\n",
       "    </tr>\n",
       "  </tbody>\n",
       "</table>\n",
       "</div>"
      ],
      "text/plain": [
       "       index   วันเวลาที่เกิดเหตุ    หน่วยงาน             สายทาง  ก.ม.  \\\n",
       "19200  42092  2020-01-29 07:40:00  กรมทางหลวง  มวกเหล็ก - บ่อทอง  42.6   \n",
       "\n",
       "          จังหวัด     รถคันที่ 1 บริเวณที่เกิดเหตุ/ลักษณะทาง  \\\n",
       "19200  นครราชสีมา  รถจักรยานยนต์      ทางตรง+ไม่มีความลาดชัน   \n",
       "\n",
       "              มูลเหตุสันนิษฐาน ลักษณะการเกิดอุบัติเหตุ  \\\n",
       "19200  ขับรถเร็วเกินอัตรากำหนด                  ชนท้าย   \n",
       "\n",
       "       จำนวนรถที่เกิดเหตุ (รวมคันที่ 1)  จำนวนผู้เสียชีวิต  \\\n",
       "19200                               2.0                1.0   \n",
       "\n",
       "       รวมจำนวนผู้บาดเจ็บ สภาพอากาศ  LATITUDE  LONGITUDE  \n",
       "19200                 0.0    แจ่มใส   14.6395  101.26844  "
      ]
     },
     "execution_count": 18,
     "metadata": {},
     "output_type": "execute_result"
    }
   ],
   "source": [
    "Accident2019TO2022.loc[[19200]]"
   ]
  },
  {
   "cell_type": "code",
   "execution_count": null,
   "metadata": {},
   "outputs": [],
   "source": [
    "Accident19TO22.drop(['index'],axis = 1,inplace = True)\n",
    "#ลบ column index อันเก่าทิ้ง"
   ]
  },
  {
   "cell_type": "code",
   "execution_count": 21,
   "metadata": {},
   "outputs": [
    {
     "name": "stdout",
     "output_type": "stream",
     "text": [
      "<class 'pandas.core.frame.DataFrame'>\n",
      "Int64Index: 68549 entries, 0 to 102786\n",
      "Data columns (total 16 columns):\n",
      " #   Column                            Non-Null Count  Dtype  \n",
      "---  ------                            --------------  -----  \n",
      " 0   วันเวลาที่เกิดเหตุ                68549 non-null  object \n",
      " 1   ปีที่เกิดเหตุ                     68549 non-null  float64\n",
      " 2   หน่วยงาน                          68549 non-null  object \n",
      " 3   สายทาง                            68549 non-null  object \n",
      " 4   ก.ม.                              68549 non-null  float64\n",
      " 5   จังหวัด                           68549 non-null  object \n",
      " 6   รถคันที่ 1                        68549 non-null  object \n",
      " 7   บริเวณที่เกิดเหตุ/ลักษณะทาง       68549 non-null  object \n",
      " 8   มูลเหตุสันนิษฐาน                  68549 non-null  object \n",
      " 9   ลักษณะการเกิดอุบัติเหตุ           68549 non-null  object \n",
      " 10  จำนวนรถที่เกิดเหตุ (รวมคันที่ 1)  68549 non-null  float64\n",
      " 11  จำนวนผู้เสียชีวิต                 68549 non-null  float64\n",
      " 12  รวมจำนวนผู้บาดเจ็บ                68549 non-null  float64\n",
      " 13  สภาพอากาศ                         68549 non-null  object \n",
      " 14  LATITUDE                          68549 non-null  float64\n",
      " 15  LONGITUDE                         68549 non-null  float64\n",
      "dtypes: float64(7), object(9)\n",
      "memory usage: 8.9+ MB\n"
     ]
    }
   ],
   "source": [
    "Accident2019TO2022.info()"
   ]
  },
  {
   "cell_type": "code",
   "execution_count": 89,
   "metadata": {},
   "outputs": [],
   "source": [
    "Accident2019TO2022['วันที่เกิดเหตุ'] = pd.to_datetime(Accident2019TO2022['วันเวลาที่เกิดเหตุ']).dt.date\n",
    "Accident2019TO2022['เวลาที่เกิดเหตุ'] = pd.to_datetime(Accident2019TO2022['วันเวลาที่เกิดเหตุ']).dt.time\n",
    "#set datetime ของข้อมูล"
   ]
  },
  {
   "cell_type": "code",
   "execution_count": null,
   "metadata": {},
   "outputs": [],
   "source": [
    "Datetime = pd.DataFrame(Accident2019TO2022[['วันที่เกิดเหตุ','เวลา']])\n",
    "AccLocation = pd.DataFrame(Accident2019TO2022[['หน่วยงาน','สายทาง','ก.ม.','จังหวัด','บริเวณที่เกิดเหตุ/ลักษณะทาง','LATITUDE','LONGITUDE']])\n",
    "AccCause = pd.DataFrame(Accident2019TO2022[['มูลเหตุสันนิษฐาน','ลักษณะการเกิดอุบัติเหตุ','สภาพอากาศ']])\n",
    "AccEffect = pd.DataFrame(Accident2019TO2022[['จำนวนผู้เสียชีวิต','รวมจำนวนผู้บาดเจ็บ','จำนวนรถที่เกิดเหตุ (รวมคันที่ 1)']])\n",
    "AccVehicle = pd.DataFrame(Accident2019TO2022[['รถคันที่ 1']])\n",
    "#แยก column เพื่อนำไปใช้ในงานต่อในขั้นต่อไป"
   ]
  },
  {
   "cell_type": "code",
   "execution_count": 59,
   "metadata": {
    "scrolled": false
   },
   "outputs": [],
   "source": [
    "Datetime.to_csv('Datetime.csv',encoding = 'utf8')\n",
    "AccLocation.to_csv('AccLocation.csv',encoding = 'utf8')\n",
    "AccCause.to_csv('AccCause.csv',encoding = 'utf8')\n",
    "AccEffect.to_csv('AccEffect.csv',encoding = 'utf8')\n",
    "AccVehicle.to_csv('AccVehicle.csv',encoding = 'utf8')\n",
    "#บันทึกไฟล์เป็น CSV file"
   ]
  }
 ],
 "metadata": {
  "kernelspec": {
   "display_name": "Python 3",
   "language": "python",
   "name": "python3"
  },
  "language_info": {
   "codemirror_mode": {
    "name": "ipython",
    "version": 3
   },
   "file_extension": ".py",
   "mimetype": "text/x-python",
   "name": "python",
   "nbconvert_exporter": "python",
   "pygments_lexer": "ipython3",
   "version": "3.8.5"
  }
 },
 "nbformat": 4,
 "nbformat_minor": 4
}
